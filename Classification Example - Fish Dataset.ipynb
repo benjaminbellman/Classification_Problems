{
 "cells": [
  {
   "cell_type": "code",
   "execution_count": 1,
   "id": "319c9e24",
   "metadata": {},
   "outputs": [],
   "source": [
    "## Packages\n",
    "import pandas as pd\n",
    "import numpy as np\n",
    "import matplotlib.pyplot as plt\n",
    "from sklearn.preprocessing import LabelEncoder\n",
    "from sklearn.linear_model import LinearRegression, LogisticRegression\n",
    "from sklearn.model_selection import train_test_split, GridSearchCV\n",
    "from sklearn.metrics import plot_confusion_matrix, precision_score, recall_score, accuracy_score\n",
    "import warnings\n",
    "warnings.filterwarnings('ignore')"
   ]
  },
  {
   "cell_type": "code",
   "execution_count": 2,
   "id": "85186fd3",
   "metadata": {},
   "outputs": [
    {
     "data": {
      "text/html": [
       "<div>\n",
       "<style scoped>\n",
       "    .dataframe tbody tr th:only-of-type {\n",
       "        vertical-align: middle;\n",
       "    }\n",
       "\n",
       "    .dataframe tbody tr th {\n",
       "        vertical-align: top;\n",
       "    }\n",
       "\n",
       "    .dataframe thead th {\n",
       "        text-align: right;\n",
       "    }\n",
       "</style>\n",
       "<table border=\"1\" class=\"dataframe\">\n",
       "  <thead>\n",
       "    <tr style=\"text-align: right;\">\n",
       "      <th></th>\n",
       "      <th>Species</th>\n",
       "      <th>Weight</th>\n",
       "      <th>Length1</th>\n",
       "      <th>Length2</th>\n",
       "      <th>Length3</th>\n",
       "      <th>Height</th>\n",
       "      <th>Width</th>\n",
       "    </tr>\n",
       "  </thead>\n",
       "  <tbody>\n",
       "    <tr>\n",
       "      <th>0</th>\n",
       "      <td>Bream</td>\n",
       "      <td>242.0</td>\n",
       "      <td>23.2</td>\n",
       "      <td>25.4</td>\n",
       "      <td>30.0</td>\n",
       "      <td>11.5200</td>\n",
       "      <td>4.0200</td>\n",
       "    </tr>\n",
       "    <tr>\n",
       "      <th>1</th>\n",
       "      <td>Bream</td>\n",
       "      <td>290.0</td>\n",
       "      <td>24.0</td>\n",
       "      <td>26.3</td>\n",
       "      <td>31.2</td>\n",
       "      <td>12.4800</td>\n",
       "      <td>4.3056</td>\n",
       "    </tr>\n",
       "    <tr>\n",
       "      <th>2</th>\n",
       "      <td>Bream</td>\n",
       "      <td>340.0</td>\n",
       "      <td>23.9</td>\n",
       "      <td>26.5</td>\n",
       "      <td>31.1</td>\n",
       "      <td>12.3778</td>\n",
       "      <td>4.6961</td>\n",
       "    </tr>\n",
       "    <tr>\n",
       "      <th>3</th>\n",
       "      <td>Bream</td>\n",
       "      <td>363.0</td>\n",
       "      <td>26.3</td>\n",
       "      <td>29.0</td>\n",
       "      <td>33.5</td>\n",
       "      <td>12.7300</td>\n",
       "      <td>4.4555</td>\n",
       "    </tr>\n",
       "    <tr>\n",
       "      <th>4</th>\n",
       "      <td>Bream</td>\n",
       "      <td>430.0</td>\n",
       "      <td>26.5</td>\n",
       "      <td>29.0</td>\n",
       "      <td>34.0</td>\n",
       "      <td>12.4440</td>\n",
       "      <td>5.1340</td>\n",
       "    </tr>\n",
       "  </tbody>\n",
       "</table>\n",
       "</div>"
      ],
      "text/plain": [
       "  Species  Weight  Length1  Length2  Length3   Height   Width\n",
       "0   Bream   242.0     23.2     25.4     30.0  11.5200  4.0200\n",
       "1   Bream   290.0     24.0     26.3     31.2  12.4800  4.3056\n",
       "2   Bream   340.0     23.9     26.5     31.1  12.3778  4.6961\n",
       "3   Bream   363.0     26.3     29.0     33.5  12.7300  4.4555\n",
       "4   Bream   430.0     26.5     29.0     34.0  12.4440  5.1340"
      ]
     },
     "execution_count": 2,
     "metadata": {},
     "output_type": "execute_result"
    }
   ],
   "source": [
    "## Read and preview dataset\n",
    "fish = pd.read_csv(r'C:\\Users\\benja\\OneDrive\\Desktop\\Datasets\\Fish.csv')\n",
    "fish.head()"
   ]
  },
  {
   "cell_type": "code",
   "execution_count": 3,
   "id": "762a1e42",
   "metadata": {
    "scrolled": true
   },
   "outputs": [
    {
     "data": {
      "text/html": [
       "<div>\n",
       "<style scoped>\n",
       "    .dataframe tbody tr th:only-of-type {\n",
       "        vertical-align: middle;\n",
       "    }\n",
       "\n",
       "    .dataframe tbody tr th {\n",
       "        vertical-align: top;\n",
       "    }\n",
       "\n",
       "    .dataframe thead th {\n",
       "        text-align: right;\n",
       "    }\n",
       "</style>\n",
       "<table border=\"1\" class=\"dataframe\">\n",
       "  <thead>\n",
       "    <tr style=\"text-align: right;\">\n",
       "      <th></th>\n",
       "      <th>Weight</th>\n",
       "      <th>Length1</th>\n",
       "      <th>Length2</th>\n",
       "      <th>Length3</th>\n",
       "      <th>Height</th>\n",
       "      <th>Width</th>\n",
       "      <th>Target</th>\n",
       "    </tr>\n",
       "  </thead>\n",
       "  <tbody>\n",
       "    <tr>\n",
       "      <th>12</th>\n",
       "      <td>500.0</td>\n",
       "      <td>29.1</td>\n",
       "      <td>31.5</td>\n",
       "      <td>36.4</td>\n",
       "      <td>13.7592</td>\n",
       "      <td>4.3680</td>\n",
       "      <td>0</td>\n",
       "    </tr>\n",
       "    <tr>\n",
       "      <th>113</th>\n",
       "      <td>700.0</td>\n",
       "      <td>34.0</td>\n",
       "      <td>36.0</td>\n",
       "      <td>38.3</td>\n",
       "      <td>10.6091</td>\n",
       "      <td>6.7408</td>\n",
       "      <td>2</td>\n",
       "    </tr>\n",
       "    <tr>\n",
       "      <th>50</th>\n",
       "      <td>200.0</td>\n",
       "      <td>22.1</td>\n",
       "      <td>23.5</td>\n",
       "      <td>26.8</td>\n",
       "      <td>7.3968</td>\n",
       "      <td>4.1272</td>\n",
       "      <td>4</td>\n",
       "    </tr>\n",
       "  </tbody>\n",
       "</table>\n",
       "</div>"
      ],
      "text/plain": [
       "     Weight  Length1  Length2  Length3   Height   Width  Target\n",
       "12    500.0     29.1     31.5     36.4  13.7592  4.3680       0\n",
       "113   700.0     34.0     36.0     38.3  10.6091  6.7408       2\n",
       "50    200.0     22.1     23.5     26.8   7.3968  4.1272       4"
      ]
     },
     "execution_count": 3,
     "metadata": {},
     "output_type": "execute_result"
    }
   ],
   "source": [
    "## Convert Species (Categorical to Number Target - There are 7 classes)\n",
    "le = LabelEncoder()\n",
    "y = le.fit_transform(fish.Species)\n",
    "fish['Target'] = pd.Series(y)\n",
    "fish.drop(columns='Species', inplace=True)\n",
    "fish.sample(3)"
   ]
  },
  {
   "cell_type": "code",
   "execution_count": 4,
   "id": "046f5731",
   "metadata": {},
   "outputs": [],
   "source": [
    "## We define our feature and target variables\n",
    "X = fish.drop(columns='Target')\n",
    "y = fish.Target\n",
    "\n",
    "## We split our data into training and test sets.\n",
    "X_train, X_test, y_train, y_test = train_test_split(X,y,test_size = 0.25, random_state=1234)"
   ]
  },
  {
   "cell_type": "markdown",
   "id": "8f92cb74",
   "metadata": {},
   "source": [
    "### 1) Logistic Regression"
   ]
  },
  {
   "cell_type": "code",
   "execution_count": 5,
   "id": "71d88cf6",
   "metadata": {},
   "outputs": [
    {
     "name": "stdout",
     "output_type": "stream",
     "text": [
      "Model Predict:[2 0 2 3 4 2 4 5 4 0 0 2 4 0 2 0 2 0 4 3 0 2 2 5 4 0 6 2 5 0 3 2 0 2 5 2 5\n",
      " 3 2 3]\n",
      "\n",
      "\n",
      "Actual Species: [2 0 6 3 2 2 2 5 4 0 0 2 2 1 2 1 2 0 4 3 0 6 2 4 4 0 2 2 5 0 3 2 1 2 5 2 5\n",
      " 3 4 3]\n",
      "\n",
      "\n",
      "Accuracy:  0.725\n",
      "Accuracy v2:  0.725\n"
     ]
    }
   ],
   "source": [
    "## We instantiate the model and fit\n",
    "log_reg = LogisticRegression()\n",
    "log_reg.fit(X_train,y_train)\n",
    "y_pred = log_reg.predict(X_test)\n",
    "print(\"Model Predict:\" +str(y_pred))\n",
    "print(\"\\n\")\n",
    "print(\"Actual Species: \" + str(np.array(y_test)))\n",
    "print(\"\\n\")\n",
    "print('Accuracy: ', log_reg.score(X_test,y_test))\n",
    "\n",
    "## Alternatively, for accuracy you can obtain it this way :\n",
    "print('Accuracy v2: ', accuracy_score(y_test,y_pred))\n"
   ]
  },
  {
   "cell_type": "code",
   "execution_count": 6,
   "id": "0ab47568",
   "metadata": {},
   "outputs": [
    {
     "name": "stdout",
     "output_type": "stream",
     "text": [
      "Precision: 0.6592307692307692\n",
      "Recall: 0.725\n"
     ]
    },
    {
     "data": {
      "image/png": "[encoded data removed]",
      "text/plain": [
       "<Figure size 432x288 with 2 Axes>"
      ]
     },
     "metadata": {
      "needs_background": "light"
     },
     "output_type": "display_data"
    }
   ],
   "source": [
    "## Logistic Regression Confusion Matrix\n",
    "plot_confusion_matrix(log_reg,X_test,y_test)\n",
    "print(\"Precision: \" + str(precision_score(y_test,y_pred,average='weighted')))\n",
    "print(\"Recall: \" + str(recall_score(y_test,y_pred,average='weighted')))\n",
    "plt.show()"
   ]
  },
  {
   "cell_type": "markdown",
   "id": "cfcac3bc",
   "metadata": {},
   "source": [
    "### 2) K-NN "
   ]
  },
  {
   "cell_type": "code",
   "execution_count": 7,
   "id": "0b85161e",
   "metadata": {},
   "outputs": [
    {
     "name": "stdout",
     "output_type": "stream",
     "text": [
      "Model Predict:[2 0 2 0 5 2 5 5 2 0 0 2 2 2 0 2 0 0 5 0 2 0 2 5 2 0 2 2 5 2 0 2 2 2 5 2 5\n",
      " 2 2 2]\n",
      "\n",
      "\n",
      "Actual Species: [2 0 6 3 2 2 2 5 4 0 0 2 2 1 2 1 2 0 4 3 0 6 2 4 4 0 2 2 5 0 3 2 1 2 5 2 5\n",
      " 3 4 3]\n",
      "\n",
      "\n",
      "Accuracy:  0.475\n"
     ]
    }
   ],
   "source": [
    "from sklearn.neighbors import KNeighborsClassifier\n",
    "knn = KNeighborsClassifier()\n",
    "knn.fit(X_train,y_train)\n",
    "y_pred = knn.predict(X_test)\n",
    "print(\"Model Predict:\" +str(y_pred))\n",
    "print(\"\\n\")\n",
    "print(\"Actual Species: \" + str(np.array(y_test)))\n",
    "print(\"\\n\")\n",
    "print('Accuracy: ', knn.score(X_test,y_test))"
   ]
  },
  {
   "cell_type": "code",
   "execution_count": 8,
   "id": "e38606cf",
   "metadata": {},
   "outputs": [
    {
     "name": "stdout",
     "output_type": "stream",
     "text": [
      "Precision: 0.2962121212121212\n",
      "Recall: 0.475\n"
     ]
    },
    {
     "data": {
      "image/png": "[encoded data removed]",
      "text/plain": [
       "<Figure size 432x288 with 2 Axes>"
      ]
     },
     "metadata": {
      "needs_background": "light"
     },
     "output_type": "display_data"
    }
   ],
   "source": [
    "## K-NN Confusion Matrix\n",
    "plot_confusion_matrix(knn,X_test,y_test)\n",
    "print(\"Precision: \" + str(precision_score(y_test,y_pred,average='weighted')))\n",
    "print(\"Recall: \" + str(recall_score(y_test,y_pred,average='weighted')))\n",
    "plt.show()"
   ]
  },
  {
   "cell_type": "markdown",
   "id": "b781aad8",
   "metadata": {},
   "source": [
    "### 3) Decision Tree"
   ]
  },
  {
   "cell_type": "code",
   "execution_count": 21,
   "id": "0a0b3d2d",
   "metadata": {},
   "outputs": [
    {
     "name": "stdout",
     "output_type": "stream",
     "text": [
      "Model Prediction: [4 0 4 3 5 2 2 5 4 0 0 2 4 1 2 1 2 0 2 3 0 6 2 4 2 0 0 2 5 0 3 4 1 2 5 2 5\n",
      " 3 2 3]\n",
      "\n",
      "\n",
      "Actual Species : [2 0 6 3 2 2 2 5 4 0 0 2 2 1 2 1 2 0 4 3 0 6 2 4 4 0 2 2 5 0 3 2 1 2 5 2 5\n",
      " 3 4 3]\n",
      "\n",
      "\n",
      "Accuracy: 0.775\n"
     ]
    }
   ],
   "source": [
    "from sklearn.tree import DecisionTreeClassifier\n",
    "dt = DecisionTreeClassifier()\n",
    "dt.fit(X_train,y_train)\n",
    "y_pred = dt.predict(X_test)\n",
    "print(\"Model Prediction: \"+str(y_pred))\n",
    "print(\"\\n\")\n",
    "print(\"Actual Species : \" + str(np.array(y_test)))\n",
    "print(\"\\n\")\n",
    "print(\"Accuracy: \" +str(dt.score(X_test,y_test)))"
   ]
  },
  {
   "cell_type": "code",
   "execution_count": 39,
   "id": "0747696d",
   "metadata": {},
   "outputs": [
    {
     "name": "stdout",
     "output_type": "stream",
     "text": [
      "\n",
      "\n",
      "Precision: 0.6639204545454545\n",
      "Recall: 0.675\n"
     ]
    },
    {
     "data": {
      "image/png": "[encoded data removed]",
      "text/plain": [
       "<Figure size 432x288 with 2 Axes>"
      ]
     },
     "metadata": {
      "needs_background": "light"
     },
     "output_type": "display_data"
    }
   ],
   "source": [
    "## DT Confusion Matrix\n",
    "plot_confusion_matrix(dt,X_test,y_test)\n",
    "print(\"\\n\")\n",
    "print(\"Precision: \" + str(precision_score(y_test,y_pred,average='weighted')))\n",
    "print(\"Recall: \" + str(recall_score(y_test,y_pred,average='weighted')))\n",
    "plt.show()"
   ]
  },
  {
   "cell_type": "markdown",
   "id": "e61196f4",
   "metadata": {},
   "source": [
    "## Hyperparameter tuning: Improving our Decision Tree with GridSearchCV"
   ]
  },
  {
   "cell_type": "code",
   "execution_count": 11,
   "id": "089bc7dc",
   "metadata": {},
   "outputs": [
    {
     "data": {
      "text/plain": [
       "{'ccp_alpha': 0.0,\n",
       " 'class_weight': None,\n",
       " 'criterion': 'gini',\n",
       " 'max_depth': None,\n",
       " 'max_features': None,\n",
       " 'max_leaf_nodes': None,\n",
       " 'min_impurity_decrease': 0.0,\n",
       " 'min_samples_leaf': 1,\n",
       " 'min_samples_split': 2,\n",
       " 'min_weight_fraction_leaf': 0.0,\n",
       " 'random_state': None,\n",
       " 'splitter': 'best'}"
      ]
     },
     "execution_count": 11,
     "metadata": {},
     "output_type": "execute_result"
    }
   ],
   "source": [
    "## We get the decision tree's params.\n",
    "dt.get_params()"
   ]
  },
  {
   "cell_type": "code",
   "execution_count": 12,
   "id": "a2d478ca",
   "metadata": {
    "scrolled": false
   },
   "outputs": [
    {
     "name": "stdout",
     "output_type": "stream",
     "text": [
      "Fitting 5 folds for each of 32 candidates, totalling 160 fits\n",
      "DecisionTreeClassifier(max_depth=10, min_samples_leaf=2)\n"
     ]
    }
   ],
   "source": [
    "param_grid  = {\n",
    "    'max_depth': [0,5,10,12],\n",
    "    'criterion':['gini','entropy'],\n",
    "    'min_samples_leaf':[0,2,4,6]\n",
    "}\n",
    "grid = GridSearchCV(dt,param_grid = param_grid, cv =5, verbose =5, n_jobs = -1)\n",
    "grid.fit(X_train,y_train)\n",
    "best_estimator = grid.best_estimator_\n",
    "\n",
    "print(best_estimator)"
   ]
  },
  {
   "cell_type": "code",
   "execution_count": 38,
   "id": "4bb0ea79",
   "metadata": {},
   "outputs": [
    {
     "name": "stdout",
     "output_type": "stream",
     "text": [
      "Model Prediction: [2 0 4 3 5 2 5 5 4 0 0 2 4 1 6 5 2 0 5 3 0 2 2 1 2 0 0 2 5 0 3 4 1 2 5 2 5\n",
      " 3 2 3]\n",
      "\n",
      "\n",
      "Actual Species : [2 0 6 3 2 2 2 5 4 0 0 2 2 1 2 1 2 0 4 3 0 6 2 4 4 0 2 2 5 0 3 2 1 2 5 2 5\n",
      " 3 4 3]\n",
      "\n",
      "\n",
      "Accuracy: 0.675\n"
     ]
    }
   ],
   "source": [
    "## We redo the tree but with the better parameters: \n",
    "\n",
    "dt = DecisionTreeClassifier(max_depth=10, min_samples_leaf=2)\n",
    "dt.fit(X_train,y_train)\n",
    "y_pred = dt.predict(X_test)\n",
    "print(\"Model Prediction: \"+str(y_pred))\n",
    "print(\"\\n\")\n",
    "print(\"Actual Species : \" + str(np.array(y_test)))\n",
    "print(\"\\n\")\n",
    "print(\"Accuracy: \"+str(dt.score(X_test,y_test)))"
   ]
  },
  {
   "cell_type": "code",
   "execution_count": null,
   "id": "9c90094c",
   "metadata": {},
   "outputs": [],
   "source": []
  }
 ],
 "metadata": {
  "kernelspec": {
   "display_name": "Python 3 (ipykernel)",
   "language": "python",
   "name": "python3"
  },
  "language_info": {
   "codemirror_mode": {
    "name": "ipython",
    "version": 3
   },
   "file_extension": ".py",
   "mimetype": "text/x-python",
   "name": "python",
   "nbconvert_exporter": "python",
   "pygments_lexer": "ipython3",
   "version": "3.9.9"
  }
 },
 "nbformat": 4,
 "nbformat_minor": 5
}
